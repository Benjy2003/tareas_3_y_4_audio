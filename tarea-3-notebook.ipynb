{
 "cells": [
  {
   "cell_type": "markdown",
   "metadata": {},
   "source": [
    "# Tarea 3: Análisis de Audio\n",
    "\n",
    "## Introducción al Procesamiento de Audio con Python"
   ]
  },
  {
   "cell_type": "code",
   "execution_count": null,
   "metadata": {},
   "outputs": [],
   "source": [
    "# Importar librerías necesarias\n",
    "from scipy.io import wavfile\n",
    "import IPython\n",
    "import os\n",
    "import numpy as np\n",
    "import matplotlib.pyplot as plt"
   ]
  },
  {
   "cell_type": "markdown",
   "metadata": {},
   "source": [
    "## Carga del Archivo de Audio"
   ]
  },
  {
   "cell_type": "code",
   "execution_count": null,
   "metadata": {},
   "outputs": [],
   "source": [
    "# Cargar archivo de audio estéreo\n",
    "file_path = 'game_of_thrones.wav'\n",
    "sr_stereo, stereo_audio = wavfile.read(file_path)\n",
    "\n",
    "# Mostrar características del audio estéreo\n",
    "print(\"Características del Audio Estéreo:\")\n",
    "print(f\"Frecuencia de muestreo: {sr_stereo} Hz\")\n",
    "print(f\"Número de canales: {stereo_audio.shape[1] if len(stereo_audio.shape) > 1 else 1}\")\n",
    "print(f\"Tamaño del archivo: {os.path.getsize(file_path) / (1024*1024):.2f} Mb\")\n",
    "\n"
   ]
  },
  {
   "cell_type": "markdown",
   "metadata": {},
   "source": [
    "## Reproducción de Audio Estéreo"
   ]
  },
  {
   "cell_type": "code",
   "execution_count": null,
   "metadata": {},
   "outputs": [],
   "source": [
    "# Reproducir audio estéreo\n",
    "print(\"Reproducción de Audio Estéreo:\")\n",
    "IPython.display.Audio(stereo_audio.T, rate=sr_stereo)"
   ]
  },
  {
   "cell_type": "markdown",
   "metadata": {},
   "source": [
    "## Conversión a Mono"
   ]
  },
  {
   "cell_type": "code",
   "execution_count": null,
   "metadata": {},
   "outputs": [],
   "source": [
    "# Convertir a mono (promediando canales)\n",
    "if len(stereo_audio.shape) > 1:\n",
    "    mono_audio = np.mean(stereo_audio, axis=1).astype(stereo_audio.dtype)\n",
    "else:\n",
    "    mono_audio = stereo_audio\n",
    "\n",
    "# Mostrar características del audio mono\n",
    "print(\"\\nCaracterísticas del Audio Mono:\")\n",
    "print(f\"Frecuencia de muestreo: {sr_stereo} Hz\")\n",
    "print(f\"Número de canales: 1\")"
   ]
  },
  {
   "cell_type": "markdown",
   "metadata": {},
   "source": [
    "## Reproducción de Audio Mono"
   ]
  },
  {
   "cell_type": "code",
   "execution_count": null,
   "metadata": {},
   "outputs": [],
   "source": [
    "# Reproducir audio mono\n",
    "print(\"Reproducción de Audio Mono:\")\n",
    "IPython.display.Audio(mono_audio, rate=sr_stereo)"
   ]
  },
  {
   "cell_type": "markdown",
   "metadata": {},
   "source": [
    "## Gráficas en el Dominio del Tiempo"
   ]
  },
  {
   "cell_type": "code",
   "execution_count": null,
   "metadata": {},
   "outputs": [],
   "source": [
    "# Gráficas en el dominio del tiempo\n",
    "plt.figure(figsize=(12, 6))\n",
    "\n",
    "# Gráfica de audio estéreo\n",
    "plt.subplot(2, 1, 1)\n",
    "plt.title('Señal de Audio Estéreo')\n",
    "if len(stereo_audio.shape) > 1:\n",
    "    time_stereo = np.linspace(0, len(stereo_audio)/sr_stereo, len(stereo_audio))\n",
    "    plt.plot(time_stereo, stereo_audio[:, 0], label='Canal Izquierdo')\n",
    "    plt.plot(time_stereo, stereo_audio[:, 1], label='Canal Derecho')\n",
    "else:\n",
    "    time_stereo = np.linspace(0, len(stereo_audio)/sr_stereo, len(stereo_audio))\n",
    "    plt.plot(time_stereo, stereo_audio)\n",
    "plt.xlabel('Tiempo (s)')\n",
    "plt.ylabel('Amplitud')\n",
    "plt.legend()\n",
    "\n",
    "# Gráfica de audio mono\n",
    "plt.subplot(2, 1, 2)\n",
    "plt.title('Señal de Audio Mono')\n",
    "time_mono = np.linspace(0, len(mono_audio)/sr_stereo, len(mono_audio))\n",
    "plt.plot(time_mono, mono_audio)\n",
    "plt.xlabel('Tiempo (s)')\n",
    "plt.ylabel('Amplitud')\n",
    "\n",
    "plt.tight_layout()\n",
    "plt.show()"
   ]
  },
  {
   "cell_type": "markdown",
   "metadata": {},
   "source": [
    "## Diferencia entre Audio Estéreo y Mono"
   ]
  },
  {
   "cell_type": "markdown",
   "metadata": {},
   "source": [
    "Diferencia entre Audio Estéreo y Mono:\n",
    "- El **audio estéreo** contiene dos canales (izquierdo y derecho) que proporcionan una sensación de direccionalidad y profundidad.\n",
    "- El **audio mono** tiene un solo canal, representando una única señal de audio sin información espacial."
   ]
  }
 ],
 "metadata": {
  "kernelspec": {
   "display_name": "audiopy",
   "language": "python",
   "name": "python3"
  },
  "language_info": {
   "codemirror_mode": {
    "name": "ipython",
    "version": 3
   },
   "file_extension": ".py",
   "mimetype": "text/x-python",
   "name": "python",
   "nbconvert_exporter": "python",
   "pygments_lexer": "ipython3",
   "version": "3.10.9"
  }
 },
 "nbformat": 4,
 "nbformat_minor": 4
}
