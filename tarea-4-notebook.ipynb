{
 "cells": [
  {
   "cell_type": "markdown",
   "metadata": {},
   "source": [
    "# Tarea 4: Procesamiento de Audio\n",
    "\n",
    "## Análisis Avanzado de Audio con Python"
   ]
  },
  {
   "cell_type": "code",
   "execution_count": null,
   "metadata": {},
   "outputs": [],
   "source": [
    "# Importar librerías necesarias\n",
    "from scipy.io import wavfile\n",
    "import IPython\n",
    "import os\n",
    "import numpy as np\n",
    "import matplotlib.pyplot as plt\n",
    "from scipy.fft import fft, fftfreq\n"
   ]
  },
  {
   "cell_type": "markdown",
   "metadata": {},
   "source": [
    "## Carga del Archivo de Audio"
   ]
  },
  {
   "cell_type": "code",
   "execution_count": null,
   "metadata": {},
   "outputs": [],
   "source": [
    "# Cargar archivo de audio estéreo\n",
    "file_path = 'game_of_thrones.wav'\n",
    "sr_stereo, stereo_audio = wavfile.read(file_path)\n",
    "\n",
    "# Mostrar características del audio estéreo\n",
    "print(\"Características del Audio Estéreo:\")\n",
    "print(f\"Frecuencia de muestreo: {sr_stereo} Hz\")\n",
    "print(f\"Número de canales: {stereo_audio.shape[1] if len(stereo_audio.shape) > 1 else 1}\")\n",
    "print(f\"Tamaño del archivo: {os.path.getsize(file_path) / (1024*1024):.2f} Mb\")\n",
    "\n",
    "# Convertir a mono (promediando canales)\n",
    "if len(stereo_audio.shape) > 1:\n",
    "    mono_audio = np.mean(stereo_audio, axis=1).astype(stereo_audio.dtype)\n",
    "else:\n",
    "    mono_audio = stereo_audio\n",
    "\n",
    "# Mostrar características del audio mono\n",
    "print(\"\\nCaracterísticas del Audio Mono:\")\n",
    "print(f\"Frecuencia de muestreo: {sr_stereo} Hz\")\n",
    "print(f\"Número de canales: 1\")"
   ]
  },
  {
   "cell_type": "markdown",
   "metadata": {},
   "source": [
    "## Gráfica en el Dominio del Tiempo"
   ]
  },
  {
   "cell_type": "code",
   "execution_count": null,
   "metadata": {},
   "outputs": [],
   "source": [
    "# Gráficas en el dominio del tiempo\n",
    "plt.figure(figsize=(12, 6))\n",
    "\n",
    "# Gráfica de audio estéreo\n",
    "plt.subplot(2, 1, 1)\n",
    "plt.title('Señal de Audio Estéreo')\n",
    "if len(stereo_audio.shape) > 1:\n",
    "    time_stereo = np.linspace(0, len(stereo_audio)/sr_stereo, len(stereo_audio))\n",
    "    plt.plot(time_stereo, stereo_audio[:, 0], label='Canal Izquierdo')\n",
    "    plt.plot(time_stereo, stereo_audio[:, 1], label='Canal Derecho')\n",
    "else:\n",
    "    time_stereo = np.linspace(0, len(stereo_audio)/sr_stereo, len(stereo_audio))\n",
    "    plt.plot(time_stereo, stereo_audio)\n",
    "plt.xlabel('Tiempo (s)')\n",
    "plt.ylabel('Amplitud')\n",
    "plt.legend()\n",
    "\n",
    "# Gráfica de audio mono\n",
    "plt.subplot(2, 1, 2)\n",
    "plt.title('Señal de Audio Mono')\n",
    "time_mono = np.linspace(0, len(mono_audio)/sr_stereo, len(mono_audio))\n",
    "plt.plot(time_mono, mono_audio)\n",
    "plt.xlabel('Tiempo (s)')\n",
    "plt.ylabel('Amplitud')\n",
    "\n",
    "plt.tight_layout()\n",
    "plt.show()"
   ]
  },
  {
   "cell_type": "markdown",
   "metadata": {},
   "source": [
    "## Conceptos Técnicos de Audio"
   ]
  },
  {
   "cell_type": "markdown",
   "metadata": {},
   "source": [
    "Conceptos Técnicos de Audio:\n",
    "1. **Frecuencia de muestreo:** Número de muestras tomadas por segundo (aquí es 44100 Hz)\n",
    "2. **Aliasing:** Distorsión que ocurre cuando la frecuencia de muestreo es insuficiente para representar la señal original\n",
    "3. **Profundidad de bits:** Número de bits usados para representar cada muestra de audio\n",
    "4. **Ancho de banda:** Rango de frecuencias que puede transmitir una señal\n",
    "5. **Tasa de bits:** Cantidad de datos procesados por unidad de tiempo"
   ]
  },
  {
   "cell_type": "markdown",
   "metadata": {},
   "source": [
    "## Transformada Rápida de Fourier (FFT)"
   ]
  },
  {
   "cell_type": "code",
   "execution_count": null,
   "metadata": {},
   "outputs": [],
   "source": [
    "# La longitud del array de datos y el\n",
    "# sample rate (frecuencia de muestreo).\n",
    "n = len(mono_audio)\n",
    "Fs = sr_stereo\n",
    "\n",
    "\n",
    "# Calculando la Transformada Rapida de Fourier (FFT) en audio mono.\n",
    "ch_Fourier = np.fft.fft(mono_audio)  # ch1\n",
    "\n",
    "# Solo miramos frecuencia por debajo de Fs/2\n",
    "# (Nyquist-Shannon) --> Spectrum.\n",
    "abs_ch_Fourier = np.absolute(ch_Fourier[:n//2])\n",
    "\n",
    "# Graficamos.\n",
    "plt.plot(np.linspace(0, Fs/2, n//2), abs_ch_Fourier)\n",
    "plt.ylabel('Amplitud', labelpad=10)\n",
    "plt.xlabel('$f$ (Hz)', labelpad=10)\n",
    "plt.show()"
   ]
  },
  {
   "cell_type": "markdown",
   "metadata": {},
   "source": [
    "## Explicación de la FFT\n",
    "\n",
    "1. **Concentración de energía en bajas frecuencias**  \n",
    "   - La gráfica muestra un pico muy alto cerca de 0 Hz (DC o muy bajas frecuencias).  \n",
    "   - En muchos audios o señales, gran parte de la energía se concentra en componentes graves o bajas frecuencias.\n",
    "\n",
    "2. **Decaimiento rápido**  \n",
    "   - Tras el pico inicial, la amplitud cae de forma pronunciada, indicando que las frecuencias medias y altas tienen menor energía.  \n",
    "   - Esto puede deberse a la naturaleza de la señal (por ejemplo, voz, música con predominio de frecuencias graves o una fuerte componente de baja frecuencia).\n",
    "\n",
    "3. **Escala de amplitud**  \n",
    "   - El eje y alcanza valores del orden de 10^8, lo cual sugiere que la señal podría tener una amplitud significativa o un offset (DC).  \n",
    "   - A partir de cierto punto, la amplitud en frecuencias más altas es casi nula, reflejando poca presencia de energía en esas bandas.\n",
    "\n",
    "En conjunto, la FFT muestra que la señal está dominada por componentes de baja frecuencia, con un gran pico inicial y un rápido decaimiento hacia frecuencias más altas."
   ]
  },
  {
   "cell_type": "markdown",
   "metadata": {},
   "source": [
    "## Cálculo de la energía del espectrograma y frecuencia de corte"
   ]
  },
  {
   "cell_type": "code",
   "execution_count": null,
   "metadata": {},
   "outputs": [],
   "source": [
    "# Definimos diferentes epsilons: la parte de\n",
    "# la energia del espectro que NO conservamos.\n",
    "eps = [1e-5, .02, .041, .063, .086, .101, .123]\n",
    "\n",
    "# Jugamos con los valores de epsilon (Variar para ver en gráfica).\n",
    "eps = eps[5]\n",
    "print(f'Epsilon: {eps}')\n",
    "\n",
    "# Calculamos el valor de corte para esta energia.\n",
    "thr_spec_energy = (1 - eps) * np.sum(abs_ch_Fourier)\n",
    "print(f'Valor de corte para la energia del espectro: {thr_spec_energy}')\n",
    "\n",
    "# Integral de la frecuencia --> energia del espectro.\n",
    "spec_energy = np.cumsum(abs_ch_Fourier)\n",
    "\n",
    "# Mascara (array booleano) que compara el\n",
    "# valor de corte con la energia del espectro.\n",
    "frequencies_to_remove = thr_spec_energy < spec_energy  \n",
    "print(f'Mascara: {frequencies_to_remove}')\n",
    "\n",
    "# La frecuencia f0 por la que cortamos el espectro.\n",
    "f0 = (len(frequencies_to_remove) - np.sum(frequencies_to_remove)) * (Fs/2) / (n//2)\n",
    "print(f'Frecuencia de corte f0 (Hz): {int(f0)}')\n",
    "\n",
    "# Graficamos.\n",
    "plt.axvline(f0, color='r')\n",
    "plt.plot(np.linspace(0, Fs/2, n//2), abs_ch_Fourier)\n",
    "plt.ylabel('Amplitud')\n",
    "plt.xlabel('$f$ (Hz)')\n",
    "plt.show()"
   ]
  },
  {
   "cell_type": "markdown",
   "metadata": {},
   "source": [
    "## Comentario sobre la FFT y la línea de corte (ε = 0.101)\n",
    "\n",
    "1. **Distribución de la energía**  \n",
    "   - El espectro presenta un pico muy grande en bajas frecuencias y decae rápidamente. Esto indica que la mayor parte de la energía de la señal se concentra en frecuencias graves o cercanas a 0 Hz.\n",
    "\n",
    "2. **Línea roja de corte**  \n",
    "   - La línea roja representa la frecuencia \\( f_0 \\) donde se conserva \\( 1 - \\varepsilon \\approx 89.9\\% \\) de la energía total (dado que \\(\\varepsilon = 0.101\\)).  \n",
    "   - Por debajo de esa frecuencia, se acumula casi toda la energía (un 89.9%), mientras que por encima de ella solo queda el 10.1%.\n",
    "\n",
    "3. **Interpretación**  \n",
    "   - En este caso, la línea aparece relativamente baja en frecuencia (unos pocos kHz), confirmando que, tras acumular el 89.9% de la energía, la contribución de las frecuencias más altas es muy pequeña.  \n",
    "   - Esta alta concentración de energía en la banda baja es típica en ciertas señales de audio o señales con un contenido predominante en graves.\n"
   ]
  },
  {
   "cell_type": "markdown",
   "metadata": {},
   "source": [
    "## Compresión de Audio"
   ]
  },
  {
   "cell_type": "code",
   "execution_count": null,
   "metadata": {},
   "outputs": [],
   "source": [
    "# Calculamos el factor D de downsampling.\n",
    "D = int(Fs / f0)\n",
    "print(f'Factor de downsampling: {D}')\n",
    "\n",
    "# Obtenemos los nuevos datos (slicing with stride).\n",
    "new_data = mono_audio[::D]\n",
    "\n",
    "# Definimos el nombre del audio comprimido generado y su path.\n",
    "wav_compressed_file = \"game_of_thrones_compressed.wav\"\n",
    "audio_output_path = './'\n",
    "\n",
    "# Escribimos los datos a un archivo de tipo wav.\n",
    "wavfile.write(\n",
    "    filename=os.path.join(audio_output_path , wav_compressed_file),\n",
    "    rate=int(Fs/D),\n",
    "    data=new_data\n",
    ")\n",
    "\n",
    "# Cargamos el nuevo archivo.\n",
    "new_sample_rate, new_audio_data = wavfile.read(filename=os.path.join(audio_output_path, wav_compressed_file))"
   ]
  },
  {
   "cell_type": "markdown",
   "metadata": {},
   "source": [
    "Este factor depende directamente por tanto de la frecuencia de corte f0, que a su vez depende del valor de epsilon. Por tanto, si epsilon es muy pequeño, f0 será muy grande y D será muy pequeño, lo que implica que la señal comprimida tendrá una frecuencia de muestreo muy alta. Por otro lado, si epsilon es muy grande, f0 será muy pequeño y D será muy grande, lo que implica que la señal comprimida tendrá una frecuencia de muestreo muy baja."
   ]
  },
  {
   "cell_type": "markdown",
   "metadata": {},
   "source": [
    "## Comparación de Espectrogramas"
   ]
  },
  {
   "cell_type": "code",
   "execution_count": null,
   "metadata": {},
   "outputs": [],
   "source": [
    "fig, ax = plt.subplots(2, 1, figsize=(12, 8), sharex=True)\n",
    "\n",
    "Pxx, freqs, bins, im = ax[0].specgram(mono_audio, NFFT=1024, Fs=sr_stereo, noverlap=512)\n",
    "ax[0].set_title('Espectograma del audio original')\n",
    "ax[0].set_ylabel('Frecuencia (Hz)')\n",
    "ax[0].grid(True)\n",
    "\n",
    "Pxx, freqs, bins, im = ax[1].specgram(new_audio_data, NFFT=1024, Fs=new_sample_rate, noverlap=512)\n",
    "ax[1].set_title('Espectrograma del audio reducido/comprimido')\n",
    "ax[1].set_xlabel('Tiempo (s)')\n",
    "ax[1].set_ylabel('Frecuencia (Hz)')\n",
    "ax[1].grid(True)\n",
    "\n",
    "plt.tight_layout()\n",
    "plt.show()"
   ]
  },
  {
   "cell_type": "markdown",
   "metadata": {},
   "source": [
    "Diferencias entre los espectrogramas\n",
    "\n",
    "- **Rango de frecuencias**: El original llega hasta ~20 kHz; el comprimido se corta alrededor de ~10 kHz.\n",
    "- **Pérdida de frecuencias altas**: Se eliminan componentes por encima de 10 kHz, reduciendo brillo/detalles.\n",
    "- **Resolución espectral**: Al comprimir o bajar la tasa de muestreo, se reduce la nitidez en altas frecuencias.\n"
   ]
  },
  {
   "cell_type": "markdown",
   "metadata": {},
   "source": [
    "## Comparación de Tamaños de Archivos"
   ]
  },
  {
   "cell_type": "code",
   "execution_count": null,
   "metadata": {},
   "outputs": [],
   "source": [
    "# Comparación de tamaños de archivos\n",
    "original_size = os.path.getsize(file_path) / (1024*1024)\n",
    "compressed_size = os.path.getsize(audio_output_path) / (1024*1024)\n",
    "\n",
    "print(f\"\\nTamaño del archivo original: {original_size:.2f} Mb\")\n",
    "print(f\"Tamaño del archivo comprimido: {compressed_size:.2f} Mb\")"
   ]
  },
  {
   "cell_type": "markdown",
   "metadata": {},
   "source": [
    "## Reproducción de Audios"
   ]
  },
  {
   "cell_type": "code",
   "execution_count": null,
   "metadata": {},
   "outputs": [],
   "source": [
    "# Reproducir los audios con widgets de IPython\n",
    "print(\"Audio original:\")\n",
    "IPython.display.Audio(\"game_of_thrones.wav\", rate=sr_stereo)\n"
   ]
  },
  {
   "cell_type": "code",
   "execution_count": null,
   "metadata": {},
   "outputs": [],
   "source": [
    "print(\"Audio comprimido:\")\n",
    "IPython.display.Audio(\"game_of_thrones_compressed.wav\", rate=new_sample_rate)"
   ]
  }
 ],
 "metadata": {
  "kernelspec": {
   "display_name": "audiopy",
   "language": "python",
   "name": "python3"
  },
  "language_info": {
   "codemirror_mode": {
    "name": "ipython",
    "version": 3
   },
   "file_extension": ".py",
   "mimetype": "text/x-python",
   "name": "python",
   "nbconvert_exporter": "python",
   "pygments_lexer": "ipython3",
   "version": "3.10.9"
  }
 },
 "nbformat": 4,
 "nbformat_minor": 4
}
